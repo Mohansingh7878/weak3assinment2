{
 "cells": [
  {
   "cell_type": "markdown",
   "id": "acc59dcd-5409-40e9-a591-9640e9e4a5f6",
   "metadata": {},
   "source": [
    "Q1. create a function program to sort the given list on tuple based on integer vvalue using a lambda function\n",
    "[('Sachin Tendulkar', 34357), ('Ricky Ponting', 27483), ('Jack Kallis', 25534), ('Virat Kohli', 24936)]"
   ]
  },
  {
   "cell_type": "code",
   "execution_count": 15,
   "id": "d95ef3fb-3bf3-450f-ba22-5936a3e882d0",
   "metadata": {},
   "outputs": [
    {
     "name": "stdout",
     "output_type": "stream",
     "text": [
      "Original list of tuples:\n",
      "[('Virat Kohli', 24936), ('Jack Kallis', 25534), ('Ricky Ponting', 27483), ('Sachin Tendulkar', 34357)]\n"
     ]
    }
   ],
   "source": [
    "l1 = [('Sachin Tendulkar', 34357), ('Ricky Ponting', 27483), ('Jack Kallis', 25534), ('Virat Kohli', 24936)]\n",
    "print(\"Original list of tuples:\")\n",
    "l1.sort(key = lambda x: x[1])\n",
    "print(l1)"
   ]
  },
  {
   "cell_type": "code",
   "execution_count": null,
   "id": "272e0211-a831-4862-a1b4-5701b3415ffc",
   "metadata": {},
   "outputs": [],
   "source": []
  },
  {
   "cell_type": "markdown",
   "id": "a58094a1-d902-47e6-9eda-69345beb9af8",
   "metadata": {},
   "source": [
    "Q2. Write  a python program to find the squares of all  the numbers in the given list of  integers using\n",
    "lambda and map function."
   ]
  },
  {
   "cell_type": "code",
   "execution_count": 1,
   "id": "73bfc40e-7631-409c-9b04-69d58b5ba380",
   "metadata": {},
   "outputs": [],
   "source": [
    "lst=[1,2,3,4,5,6,7,8,9,10]"
   ]
  },
  {
   "cell_type": "code",
   "execution_count": 6,
   "id": "1959c167-80dc-40e0-9f53-f81cc12f2cf8",
   "metadata": {},
   "outputs": [
    {
     "data": {
      "text/plain": [
       "[1, 4, 9, 16, 25, 36, 49, 64, 81, 100]"
      ]
     },
     "execution_count": 6,
     "metadata": {},
     "output_type": "execute_result"
    }
   ],
   "source": [
    "list(map(lambda a : a**2,lst))"
   ]
  },
  {
   "cell_type": "markdown",
   "id": "82d80924-efec-4eb1-90cc-0d6f951efe48",
   "metadata": {},
   "source": [
    "Q3. Write  a python program to convert the given  list of integers into a tuple of strings. Use map and \n",
    "lambda functions.\n",
    "Given string :[1,2,3,4,5,6,7,8,9,10]\n",
    "Expected outut:('1','2','3','4','5','6','7','8','9','10')"
   ]
  },
  {
   "cell_type": "code",
   "execution_count": 14,
   "id": "0ee7869b-2cd9-461d-8d15-131f14af4845",
   "metadata": {},
   "outputs": [
    {
     "name": "stdout",
     "output_type": "stream",
     "text": [
      "['1', '2', '3', '4', '5', '6', '7', '8', '9', '10']\n"
     ]
    }
   ],
   "source": [
    "l1 = [1,2,3,4,5,6,7,8,9,10]\n",
    "l2 = list(map(str,l1))\n",
    "print(l2)"
   ]
  },
  {
   "cell_type": "code",
   "execution_count": null,
   "id": "f4900d2f-4ce3-4978-b76b-fd01cbc7eb57",
   "metadata": {},
   "outputs": [],
   "source": []
  },
  {
   "cell_type": "code",
   "execution_count": null,
   "id": "aab1fd03-1be7-40a0-b985-8e7edcadfc0b",
   "metadata": {},
   "outputs": [],
   "source": []
  },
  {
   "cell_type": "markdown",
   "id": "3b9e6a5c-0e4a-43fc-9dfd-52e0759ffd7c",
   "metadata": {},
   "source": [
    "Q4. Write a python program using reduce function to compute the product of a list  containing numbers from 1 to 25."
   ]
  },
  {
   "cell_type": "code",
   "execution_count": 24,
   "id": "a3cf0f07-c33f-4b2f-9ef8-605d919f3d8c",
   "metadata": {},
   "outputs": [],
   "source": [
    "from functools import reduce"
   ]
  },
  {
   "cell_type": "code",
   "execution_count": 29,
   "id": "0847aa5b-c51f-4993-b26b-a3c760566ddd",
   "metadata": {},
   "outputs": [],
   "source": [
    "l =[1,2,3,4,5,6,7,8,9,10,11,12,13,14,15,16,17,18,19,20,21,22,23,24,25]"
   ]
  },
  {
   "cell_type": "code",
   "execution_count": 30,
   "id": "f0c818d4-53d5-4c33-87d4-fef65c5bc127",
   "metadata": {},
   "outputs": [
    {
     "data": {
      "text/plain": [
       "325"
      ]
     },
     "execution_count": 30,
     "metadata": {},
     "output_type": "execute_result"
    }
   ],
   "source": [
    "reduce(lambda a,b:a+b,l)"
   ]
  },
  {
   "cell_type": "markdown",
   "id": "cf46fb26-1694-4846-a2ac-beb0adc371bc",
   "metadata": {},
   "source": [
    "Q5.Write a python program to filter the numbers in a given list that are divisible by 2 and 3 using  the filter function.\n",
    "[2,3,6,9,27,60,90,120,55,46]"
   ]
  },
  {
   "cell_type": "code",
   "execution_count": 31,
   "id": "681d7b2f-9d62-4e96-ae27-2935a15cfeaa",
   "metadata": {},
   "outputs": [],
   "source": [
    "a = [2,3,6,9,27,60,90,120,55,46]"
   ]
  },
  {
   "cell_type": "code",
   "execution_count": 32,
   "id": "c35712c8-ea9a-49ef-9cf2-54d370fd8991",
   "metadata": {},
   "outputs": [
    {
     "data": {
      "text/plain": [
       "[2, 6, 60, 90, 120, 46]"
      ]
     },
     "execution_count": 32,
     "metadata": {},
     "output_type": "execute_result"
    }
   ],
   "source": [
    "list(filter(lambda x : x%2==0,a))"
   ]
  },
  {
   "cell_type": "markdown",
   "id": "9fc65e7a-4b6f-4ae9-8687-2e2ae7882d6b",
   "metadata": {},
   "source": [
    "Q6.  write a python program to find palindromes in the giiven list of strings using lambda and filter function.\n",
    "['python','php','aba','radar','level']"
   ]
  },
  {
   "cell_type": "code",
   "execution_count": 4,
   "id": "895f645f-3bd8-494e-aa53-bd8698822dde",
   "metadata": {},
   "outputs": [
    {
     "name": "stdout",
     "output_type": "stream",
     "text": [
      "['python', 'php', 'aba', 'radar', 'level']\n",
      "\n",
      "List of palindromes:\n",
      "['php', 'aba', 'radar', 'level']\n"
     ]
    }
   ],
   "source": [
    "lst= ['python', 'php', 'aba', 'radar', 'level']\n",
    "print(lst) \n",
    "function = list(filter(lambda l: (l == \"\".join(reversed(l))), lst)) \n",
    "print(\"\\nList of palindromes:\")\n",
    "print(function) "
   ]
  },
  {
   "cell_type": "code",
   "execution_count": null,
   "id": "d1b37946-adc6-4321-9895-c862b8a1c092",
   "metadata": {},
   "outputs": [],
   "source": []
  },
  {
   "cell_type": "code",
   "execution_count": null,
   "id": "a122ffc5-c42f-4181-b174-ec6bebf19c4f",
   "metadata": {},
   "outputs": [],
   "source": []
  },
  {
   "cell_type": "code",
   "execution_count": null,
   "id": "53c923c4-e677-48bb-bf88-98325638cc06",
   "metadata": {},
   "outputs": [],
   "source": []
  },
  {
   "cell_type": "code",
   "execution_count": null,
   "id": "2de2f73c-b3c1-4917-a9c7-8007a72252c1",
   "metadata": {},
   "outputs": [],
   "source": []
  },
  {
   "cell_type": "code",
   "execution_count": null,
   "id": "c829d32e-24d1-4cad-b36b-ad6cb8be5be6",
   "metadata": {},
   "outputs": [],
   "source": []
  },
  {
   "cell_type": "code",
   "execution_count": null,
   "id": "89ea0118-bb4b-42f8-b717-2d5e2032c4dd",
   "metadata": {},
   "outputs": [],
   "source": []
  },
  {
   "cell_type": "code",
   "execution_count": null,
   "id": "ca25dddf-3130-421b-a0fe-5a34f4f906e8",
   "metadata": {},
   "outputs": [],
   "source": []
  },
  {
   "cell_type": "code",
   "execution_count": null,
   "id": "5f1ec6ef-526b-42d4-8db4-803ccd0b8f8c",
   "metadata": {},
   "outputs": [],
   "source": []
  }
 ],
 "metadata": {
  "kernelspec": {
   "display_name": "Python 3 (ipykernel)",
   "language": "python",
   "name": "python3"
  },
  "language_info": {
   "codemirror_mode": {
    "name": "ipython",
    "version": 3
   },
   "file_extension": ".py",
   "mimetype": "text/x-python",
   "name": "python",
   "nbconvert_exporter": "python",
   "pygments_lexer": "ipython3",
   "version": "3.10.8"
  }
 },
 "nbformat": 4,
 "nbformat_minor": 5
}
